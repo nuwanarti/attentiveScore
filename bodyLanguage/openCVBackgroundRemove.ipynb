{
 "cells": [
  {
   "cell_type": "code",
   "execution_count": null,
   "metadata": {},
   "outputs": [],
   "source": [
    "import cv2\n",
    "#== Parameters   \n",
    "import numpy as np\n",
    "BLUR = 21\n",
    "CANNY_THRESH_1 = 10\n",
    "CANNY_THRESH_2 = 100\n",
    "MASK_DILATE_ITER = 10\n",
    "MASK_ERODE_ITER = 10\n",
    "MASK_COLOR = (0.0,0.0,1.0) # In BGR format\n",
    "\n",
    "\n",
    "#-- Read image\n",
    "img = cv2.imread('/home/rt/Downloads/FacialExpressionDataset/FacialExpressions_800_800/1User3_0.jpg')\n",
    "gray = cv2.cvtColor(img,cv2.COLOR_BGR2GRAY)\n",
    "\n",
    "#-- Edge detection \n",
    "edges = cv2.Canny(gray, CANNY_THRESH_1, CANNY_THRESH_2)\n",
    "edges = cv2.dilate(edges, None)\n",
    "edges = cv2.erode(edges, None)\n",
    "\n",
    "#-- Find contours in edges, sort by area \n",
    "contour_info = []\n",
    "contours, _ = cv2.findContours(edges, cv2.RETR_LIST, cv2.CHAIN_APPROX_NONE)\n",
    "#                  cv2.findContours(thresh,cv2.RETR_TREE,cv2.CHAIN_APPROX_SIMPLE)\n",
    "for c in contours:\n",
    "    contour_info.append((\n",
    "        c,\n",
    "        cv2.isContourConvex(c),\n",
    "        cv2.contourArea(c),\n",
    "    ))\n",
    "contour_info = sorted(contour_info, key=lambda c: c[2], reverse=True)\n",
    "max_contour = contour_info[0]\n",
    "\n",
    "#-- Create empty mask, draw filled polygon on it corresponding to largest contour ----\n",
    "# Mask is black, polygon is white\n",
    "mask = np.zeros(edges.shape)\n",
    "for c in contour_info:\n",
    "    cv2.fillConvexPoly(mask, c[0], (255))\n",
    "\n",
    "#-- Smooth mask, then blur it\n",
    "mask = cv2.dilate(mask, None, iterations=MASK_DILATE_ITER)\n",
    "mask = cv2.erode(mask, None, iterations=MASK_ERODE_ITER)\n",
    "mask = cv2.GaussianBlur(mask, (BLUR, BLUR), 0)\n",
    "mask_stack = np.dstack([mask]*3)    # Create 3-channel alpha mask\n",
    "\n",
    "#-- Blend masked img into MASK_COLOR background\n",
    "mask_stack  = mask_stack.astype('float32') / 255.0         \n",
    "img         = img.astype('float32') / 255.0    \n",
    "masked = (mask_stack * img) + ((1-mask_stack) * MASK_COLOR)  \n",
    "masked = (masked * 255).astype('uint8')                    \n",
    "\n",
    "cv2.imshow('img', masked)                                   # Display\n",
    "cv2.waitKey(0)\n",
    "cv2.imwrite(\"WTF.jpg\",masked)\n",
    "\n",
    "# but this opencv approach doesn't work for all the images.\n",
    "# because of that, we adapt a cnn semantic segment modules"
   ]
  },
  {
   "cell_type": "code",
   "execution_count": null,
   "metadata": {},
   "outputs": [],
   "source": []
  }
 ],
 "metadata": {
  "kernelspec": {
   "display_name": "Python 3",
   "language": "python",
   "name": "python3"
  },
  "language_info": {
   "codemirror_mode": {
    "name": "ipython",
    "version": 3
   },
   "file_extension": ".py",
   "mimetype": "text/x-python",
   "name": "python",
   "nbconvert_exporter": "python",
   "pygments_lexer": "ipython3",
   "version": "3.7.6"
  }
 },
 "nbformat": 4,
 "nbformat_minor": 4
}
