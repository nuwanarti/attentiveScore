{
 "cells": [
  {
   "cell_type": "code",
   "execution_count": 2,
   "metadata": {},
   "outputs": [],
   "source": [
    "import pandas as pd\n",
    "import numpy as np\n",
    "from shutil import copyfile"
   ]
  },
  {
   "cell_type": "code",
   "execution_count": 2,
   "metadata": {},
   "outputs": [
    {
     "name": "stdout",
     "output_type": "stream",
     "text": [
      " 10User14_10_pred.png\t        preprocessing.ipynb\r\n",
      " advanced.ipynb\t\t        resized\r\n",
      " cdcl-semantic-segmentation     resizeImages.py\r\n",
      " cnnClassifier.py\t       'seg_582391 48__score_6.jpg'\r\n",
      " images\t\t\t       'semantic segment 1st approach'\r\n",
      " labels.csv\t\t        tmp.jpg\r\n",
      " model.ipynb\t\t        WTF.jpg\r\n",
      " openCVBackgroundRemove.ipynb\r\n"
     ]
    }
   ],
   "source": [
    "!ls"
   ]
  },
  {
   "cell_type": "code",
   "execution_count": 4,
   "metadata": {},
   "outputs": [],
   "source": [
    "df = pd.read_csv('labels.csv')"
   ]
  },
  {
   "cell_type": "code",
   "execution_count": 5,
   "metadata": {},
   "outputs": [
    {
     "data": {
      "text/html": [
       "<div>\n",
       "<style scoped>\n",
       "    .dataframe tbody tr th:only-of-type {\n",
       "        vertical-align: middle;\n",
       "    }\n",
       "\n",
       "    .dataframe tbody tr th {\n",
       "        vertical-align: top;\n",
       "    }\n",
       "\n",
       "    .dataframe thead th {\n",
       "        text-align: right;\n",
       "    }\n",
       "</style>\n",
       "<table border=\"1\" class=\"dataframe\">\n",
       "  <thead>\n",
       "    <tr style=\"text-align: right;\">\n",
       "      <th></th>\n",
       "      <th>Image_ID</th>\n",
       "      <th>Attentative_Score</th>\n",
       "    </tr>\n",
       "  </thead>\n",
       "  <tbody>\n",
       "    <tr>\n",
       "      <th>0</th>\n",
       "      <td>VID_20200511_163207~2-mc (1) 01__score_10.jpg</td>\n",
       "      <td>10</td>\n",
       "    </tr>\n",
       "    <tr>\n",
       "      <th>1</th>\n",
       "      <td>VID_20200511_163207~2-mc (1) 03__score_10.jpg</td>\n",
       "      <td>10</td>\n",
       "    </tr>\n",
       "    <tr>\n",
       "      <th>2</th>\n",
       "      <td>VID_20200511_163207~2-mc (1) 04__score_10.jpg</td>\n",
       "      <td>10</td>\n",
       "    </tr>\n",
       "    <tr>\n",
       "      <th>3</th>\n",
       "      <td>VID_20200511_163207~2-mc (1) 05__score_6.jpg</td>\n",
       "      <td>6</td>\n",
       "    </tr>\n",
       "    <tr>\n",
       "      <th>4</th>\n",
       "      <td>VID_20200511_163207~2-mc (1) 06__score_8.jpg</td>\n",
       "      <td>8</td>\n",
       "    </tr>\n",
       "  </tbody>\n",
       "</table>\n",
       "</div>"
      ],
      "text/plain": [
       "                                        Image_ID  Attentative_Score\n",
       "0  VID_20200511_163207~2-mc (1) 01__score_10.jpg                 10\n",
       "1  VID_20200511_163207~2-mc (1) 03__score_10.jpg                 10\n",
       "2  VID_20200511_163207~2-mc (1) 04__score_10.jpg                 10\n",
       "3   VID_20200511_163207~2-mc (1) 05__score_6.jpg                  6\n",
       "4   VID_20200511_163207~2-mc (1) 06__score_8.jpg                  8"
      ]
     },
     "execution_count": 5,
     "metadata": {},
     "output_type": "execute_result"
    }
   ],
   "source": [
    "df.head()"
   ]
  },
  {
   "cell_type": "code",
   "execution_count": 6,
   "metadata": {},
   "outputs": [],
   "source": [
    "df['new'] = 0"
   ]
  },
  {
   "cell_type": "code",
   "execution_count": null,
   "metadata": {},
   "outputs": [],
   "source": []
  },
  {
   "cell_type": "code",
   "execution_count": 9,
   "metadata": {},
   "outputs": [],
   "source": [
    "df.loc[df['Attentative_Score'] == 0, 'Attentative_Score'] = 1"
   ]
  },
  {
   "cell_type": "code",
   "execution_count": null,
   "metadata": {},
   "outputs": [],
   "source": [
    "copyfile(src, dst)"
   ]
  },
  {
   "cell_type": "code",
   "execution_count": 26,
   "metadata": {},
   "outputs": [
    {
     "name": "stdout",
     "output_type": "stream",
     "text": [
      "file not found VID_20200511_163207~2-mc (1) 26__score_0.jpg\n",
      "file not found VID_20200511_163118 38_score_5\n",
      "file not found IMG_3803 100__score_10.jpg\n"
     ]
    }
   ],
   "source": [
    "src = '/home/rt/Documents/gayan/attentiveScore/bodyLanguage/resized/'\n",
    "dst = '/home/rt/Documents/gayan/attentiveScore/bodyLanguage/labeledImages/'\n",
    "for index, row in df.iterrows():\n",
    "    \n",
    "    try:\n",
    "        copyfile(src + 'seg_' + row['Image_ID'], dst + str(row['Attentative_Score']) +'/'+ row['Image_ID'])\n",
    "    except:\n",
    "        print('file not found ' + row['Image_ID'])"
   ]
  },
  {
   "cell_type": "code",
   "execution_count": null,
   "metadata": {},
   "outputs": [],
   "source": []
  }
 ],
 "metadata": {
  "kernelspec": {
   "display_name": "Python 3",
   "language": "python",
   "name": "python3"
  },
  "language_info": {
   "codemirror_mode": {
    "name": "ipython",
    "version": 3
   },
   "file_extension": ".py",
   "mimetype": "text/x-python",
   "name": "python",
   "nbconvert_exporter": "python",
   "pygments_lexer": "ipython3",
   "version": "3.7.3"
  }
 },
 "nbformat": 4,
 "nbformat_minor": 2
}
