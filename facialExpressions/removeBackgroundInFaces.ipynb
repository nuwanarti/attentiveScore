{
 "cells": [
  {
   "cell_type": "code",
   "execution_count": null,
   "metadata": {},
   "outputs": [],
   "source": [
    "%matplotlib inline\n",
    "import cv2\n",
    "from pylab import *\n",
    "import torch\n",
    "from torch import nn\n",
    "\n",
    "# https://pypi.org/project/models/0.9.3/\n",
    "from models import LinkNet34\n",
    "\n",
    "import torchvision.transforms as transforms\n",
    "from torch.autograd import Variable\n",
    "import sys\n",
    "from PIL import Image, ImageFilter\n"
   ]
  },
  {
   "cell_type": "code",
   "execution_count": null,
   "metadata": {},
   "outputs": [],
   "source": [
    "# linking gpu if available\n",
    "device = torch.device(\"cuda:0\" if torch.cuda.is_available() else \"cpu\")\n",
    "\n",
    "# initializing linknet34 \n",
    "# https://nikolasent.github.io/deeplearning/competitions/2018/06/05/Multiclass-semantic-segmentation-with-LinkNet34.html\n",
    "model = LinkNet34()\n",
    "# model.load_state_dict(torch.load('linknet.pth'))\n",
    "model.load_state_dict(torch.load('linknet.pth', map_location=lambda storage, loc: storage))\n",
    "\n",
    "model.eval()\n",
    "model.to(device)\n",
    "# summary(model, (3, 256, 256))\n",
    "1\n",
    "\n",
    "# to handle image manipulations.. \n",
    "# if you want to do multiple image manipulations, you could add all the image manipulations inside \n",
    "# transforms.Compose\n",
    "img_transform = transforms.Compose([\n",
    "    transforms.Resize((256,256)),\n",
    "     # transform the image into tensor, normalize the pixel values in range 0-1\n",
    "    transforms.ToTensor(),\n",
    "    # setting values for normalization, normalize the image using standard deviation\n",
    "    transforms.Normalize(mean=[0.485, 0.456, 0.406], std=[0.229, 0.224, 0.225], inplace=False) \n",
    "])\n",
    "t = transforms.Resize(size=(256,256))\n",
    "\n",
    "\n",
    "def plt_mask(path):\n",
    "    _img = Image.open(path)\n",
    "    a = img_transform(_img)\n",
    "    a = a.unsqueeze(0)\n",
    "    imgs = Variable(a.to(device))\n",
    "    pred = model(imgs)\n",
    "    img = np.array(_img)\n",
    "    mask = pred > 0.5\n",
    "    mask = mask.squeeze()\n",
    "    mask = mask.cpu().numpy()\n",
    "    img=np.array(t(Image.fromarray(img)))\n",
    "    img[mask==0]=170\n",
    "#     print(shape(img))\n",
    "    return img;\n",
    "#     plt.imshow(img)\n",
    "\n",
    "images = os.listdir('/home/rt/Downloads/FacialExpressionDataset/FacialExpressions_800_800/')\n",
    "dirName = '/home/rt/Downloads/FacialExpressionDataset/FacialExpressions_800_800/'\n",
    "model.eval()\n",
    "\n",
    "faces = []\n",
    "# faces.append(plt_mask(dirName + images[0]))\n",
    "for img in images:\n",
    "    faces.append(plt_mask(dirName + img))\n",
    "plt.imshow(faces[0])\n",
    "\n"
   ]
  }
 ],
 "metadata": {
  "kernelspec": {
   "display_name": "Python 3",
   "language": "python",
   "name": "python3"
  },
  "language_info": {
   "codemirror_mode": {
    "name": "ipython",
    "version": 3
   },
   "file_extension": ".py",
   "mimetype": "text/x-python",
   "name": "python",
   "nbconvert_exporter": "python",
   "pygments_lexer": "ipython3",
   "version": "3.6.9"
  }
 },
 "nbformat": 4,
 "nbformat_minor": 4
}
